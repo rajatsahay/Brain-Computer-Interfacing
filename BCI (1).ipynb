{
  "nbformat": 4,
  "nbformat_minor": 0,
  "metadata": {
    "colab": {
      "name": "BCI.ipynb",
      "provenance": [],
      "collapsed_sections": []
    },
    "kernelspec": {
      "name": "python3",
      "display_name": "Python 3"
    }
  },
  "cells": [
    {
      "cell_type": "code",
      "metadata": {
        "id": "NI5YBbesSa52",
        "colab_type": "code",
        "outputId": "40916f1c-119a-4be9-b62b-04f1b77b7ace",
        "colab": {
          "base_uri": "https://localhost:8080/",
          "height": 1000
        }
      },
      "source": [
        "!unzip /content/drive/My\\ Drive/BCI/train-bci.zip"
      ],
      "execution_count": 1,
      "outputs": [
        {
          "output_type": "stream",
          "text": [
            "Archive:  /content/drive/My Drive/BCI/train-bci.zip\n",
            "   creating: train/\n",
            "  inflating: train/subj10_series1_data.csv  \n",
            "  inflating: train/subj10_series1_events.csv  \n",
            "  inflating: train/subj10_series2_data.csv  \n",
            "  inflating: train/subj10_series2_events.csv  \n",
            "  inflating: train/subj10_series3_data.csv  \n",
            "  inflating: train/subj10_series3_events.csv  \n",
            "  inflating: train/subj10_series4_data.csv  \n",
            "  inflating: train/subj10_series4_events.csv  \n",
            "  inflating: train/subj10_series5_data.csv  \n",
            "  inflating: train/subj10_series5_events.csv  \n",
            "  inflating: train/subj10_series6_data.csv  \n",
            "  inflating: train/subj10_series6_events.csv  \n",
            "  inflating: train/subj10_series7_data.csv  \n",
            "  inflating: train/subj10_series7_events.csv  \n",
            "  inflating: train/subj10_series8_data.csv  \n",
            "  inflating: train/subj10_series8_events.csv  \n",
            "  inflating: train/subj11_series1_data.csv  \n",
            "  inflating: train/subj11_series1_events.csv  \n",
            "  inflating: train/subj11_series2_data.csv  \n",
            "  inflating: train/subj11_series2_events.csv  \n",
            "  inflating: train/subj11_series3_data.csv  \n",
            "  inflating: train/subj11_series3_events.csv  \n",
            "  inflating: train/subj11_series4_data.csv  \n",
            "  inflating: train/subj11_series4_events.csv  \n",
            "  inflating: train/subj11_series5_data.csv  \n",
            "  inflating: train/subj11_series5_events.csv  \n",
            "  inflating: train/subj11_series6_data.csv  \n",
            "  inflating: train/subj11_series6_events.csv  \n",
            "  inflating: train/subj11_series7_data.csv  \n",
            "  inflating: train/subj11_series7_events.csv  \n",
            "  inflating: train/subj11_series8_data.csv  \n",
            "  inflating: train/subj11_series8_events.csv  \n",
            "  inflating: train/subj12_series1_data.csv  \n",
            "  inflating: train/subj12_series1_events.csv  \n",
            "  inflating: train/subj12_series2_data.csv  \n",
            "  inflating: train/subj12_series2_events.csv  \n",
            "  inflating: train/subj12_series3_data.csv  \n",
            "  inflating: train/subj12_series3_events.csv  \n",
            "  inflating: train/subj12_series4_data.csv  \n",
            "  inflating: train/subj12_series4_events.csv  \n",
            "  inflating: train/subj12_series5_data.csv  \n",
            "  inflating: train/subj12_series5_events.csv  \n",
            "  inflating: train/subj12_series6_data.csv  \n",
            "  inflating: train/subj12_series6_events.csv  \n",
            "  inflating: train/subj12_series7_data.csv  \n",
            "  inflating: train/subj12_series7_events.csv  \n",
            "  inflating: train/subj12_series8_data.csv  \n",
            "  inflating: train/subj12_series8_events.csv  \n",
            "  inflating: train/subj1_series1_data.csv  \n",
            "  inflating: train/subj1_series1_events.csv  \n",
            "  inflating: train/subj1_series2_data.csv  \n",
            "  inflating: train/subj1_series2_events.csv  \n",
            "  inflating: train/subj1_series3_data.csv  \n",
            "  inflating: train/subj1_series3_events.csv  \n",
            "  inflating: train/subj1_series4_data.csv  \n",
            "  inflating: train/subj1_series4_events.csv  \n",
            "  inflating: train/subj1_series5_data.csv  \n",
            "  inflating: train/subj1_series5_events.csv  \n",
            "  inflating: train/subj1_series6_data.csv  \n",
            "  inflating: train/subj1_series6_events.csv  \n",
            "  inflating: train/subj1_series7_data.csv  \n",
            "  inflating: train/subj1_series7_events.csv  \n",
            "  inflating: train/subj1_series8_data.csv  \n",
            "  inflating: train/subj1_series8_events.csv  \n",
            "  inflating: train/subj2_series1_data.csv  \n",
            "  inflating: train/subj2_series1_events.csv  \n",
            "  inflating: train/subj2_series2_data.csv  \n",
            "  inflating: train/subj2_series2_events.csv  \n",
            "  inflating: train/subj2_series3_data.csv  \n",
            "  inflating: train/subj2_series3_events.csv  \n",
            "  inflating: train/subj2_series4_data.csv  \n",
            "  inflating: train/subj2_series4_events.csv  \n",
            "  inflating: train/subj2_series5_data.csv  \n",
            "  inflating: train/subj2_series5_events.csv  \n",
            "  inflating: train/subj2_series6_data.csv  \n",
            "  inflating: train/subj2_series6_events.csv  \n",
            "  inflating: train/subj2_series7_data.csv  \n",
            "  inflating: train/subj2_series7_events.csv  \n",
            "  inflating: train/subj2_series8_data.csv  \n",
            "  inflating: train/subj2_series8_events.csv  \n",
            "  inflating: train/subj3_series1_data.csv  \n",
            "  inflating: train/subj3_series1_events.csv  \n",
            "  inflating: train/subj3_series2_data.csv  \n",
            "  inflating: train/subj3_series2_events.csv  \n",
            "  inflating: train/subj3_series3_data.csv  \n",
            "  inflating: train/subj3_series3_events.csv  \n",
            "  inflating: train/subj3_series4_data.csv  \n",
            "  inflating: train/subj3_series4_events.csv  \n",
            "  inflating: train/subj3_series5_data.csv  \n",
            "  inflating: train/subj3_series5_events.csv  \n",
            "  inflating: train/subj3_series6_data.csv  \n",
            "  inflating: train/subj3_series6_events.csv  \n",
            "  inflating: train/subj3_series7_data.csv  \n",
            "  inflating: train/subj3_series7_events.csv  \n",
            "  inflating: train/subj3_series8_data.csv  \n",
            "  inflating: train/subj3_series8_events.csv  \n",
            "  inflating: train/subj4_series1_data.csv  \n",
            "  inflating: train/subj4_series1_events.csv  \n",
            "  inflating: train/subj4_series2_data.csv  \n",
            "  inflating: train/subj4_series2_events.csv  \n",
            "  inflating: train/subj4_series3_data.csv  \n",
            "  inflating: train/subj4_series3_events.csv  \n",
            "  inflating: train/subj4_series4_data.csv  \n",
            "  inflating: train/subj4_series4_events.csv  \n",
            "  inflating: train/subj4_series5_data.csv  \n",
            "  inflating: train/subj4_series5_events.csv  \n",
            "  inflating: train/subj4_series6_data.csv  \n",
            "  inflating: train/subj4_series6_events.csv  \n",
            "  inflating: train/subj4_series7_data.csv  \n",
            "  inflating: train/subj4_series7_events.csv  \n",
            "  inflating: train/subj4_series8_data.csv  \n",
            "  inflating: train/subj4_series8_events.csv  \n",
            "  inflating: train/subj5_series1_data.csv  \n",
            "  inflating: train/subj5_series1_events.csv  \n",
            "  inflating: train/subj5_series2_data.csv  \n",
            "  inflating: train/subj5_series2_events.csv  \n",
            "  inflating: train/subj5_series3_data.csv  \n",
            "  inflating: train/subj5_series3_events.csv  \n",
            "  inflating: train/subj5_series4_data.csv  \n",
            "  inflating: train/subj5_series4_events.csv  \n",
            "  inflating: train/subj5_series5_data.csv  \n",
            "  inflating: train/subj5_series5_events.csv  \n",
            "  inflating: train/subj5_series6_data.csv  \n",
            "  inflating: train/subj5_series6_events.csv  \n",
            "  inflating: train/subj5_series7_data.csv  \n",
            "  inflating: train/subj5_series7_events.csv  \n",
            "  inflating: train/subj5_series8_data.csv  \n",
            "  inflating: train/subj5_series8_events.csv  \n",
            "  inflating: train/subj6_series1_data.csv  \n",
            "  inflating: train/subj6_series1_events.csv  \n",
            "  inflating: train/subj6_series2_data.csv  \n",
            "  inflating: train/subj6_series2_events.csv  \n",
            "  inflating: train/subj6_series3_data.csv  \n",
            "  inflating: train/subj6_series3_events.csv  \n",
            "  inflating: train/subj6_series4_data.csv  \n",
            "  inflating: train/subj6_series4_events.csv  \n",
            "  inflating: train/subj6_series5_data.csv  \n",
            "  inflating: train/subj6_series5_events.csv  \n",
            "  inflating: train/subj6_series6_data.csv  \n",
            "  inflating: train/subj6_series6_events.csv  \n",
            "  inflating: train/subj6_series7_data.csv  \n",
            "  inflating: train/subj6_series7_events.csv  \n",
            "  inflating: train/subj6_series8_data.csv  \n",
            "  inflating: train/subj6_series8_events.csv  \n",
            "  inflating: train/subj7_series1_data.csv  \n",
            "  inflating: train/subj7_series1_events.csv  \n",
            "  inflating: train/subj7_series2_data.csv  \n",
            "  inflating: train/subj7_series2_events.csv  \n",
            "  inflating: train/subj7_series3_data.csv  \n",
            "  inflating: train/subj7_series3_events.csv  \n",
            "  inflating: train/subj7_series4_data.csv  \n",
            "  inflating: train/subj7_series4_events.csv  \n",
            "  inflating: train/subj7_series5_data.csv  \n",
            "  inflating: train/subj7_series5_events.csv  \n",
            "  inflating: train/subj7_series6_data.csv  \n",
            "  inflating: train/subj7_series6_events.csv  \n",
            "  inflating: train/subj7_series7_data.csv  \n",
            "  inflating: train/subj7_series7_events.csv  \n",
            "  inflating: train/subj7_series8_data.csv  \n",
            "  inflating: train/subj7_series8_events.csv  \n",
            "  inflating: train/subj8_series1_data.csv  \n",
            "  inflating: train/subj8_series1_events.csv  \n",
            "  inflating: train/subj8_series2_data.csv  \n",
            "  inflating: train/subj8_series2_events.csv  \n",
            "  inflating: train/subj8_series3_data.csv  \n",
            "  inflating: train/subj8_series3_events.csv  \n",
            "  inflating: train/subj8_series4_data.csv  \n",
            "  inflating: train/subj8_series4_events.csv  \n",
            "  inflating: train/subj8_series5_data.csv  \n",
            "  inflating: train/subj8_series5_events.csv  \n",
            "  inflating: train/subj8_series6_data.csv  \n",
            "  inflating: train/subj8_series6_events.csv  \n",
            "  inflating: train/subj8_series7_data.csv  \n",
            "  inflating: train/subj8_series7_events.csv  \n",
            "  inflating: train/subj8_series8_data.csv  \n",
            "  inflating: train/subj8_series8_events.csv  \n",
            "  inflating: train/subj9_series1_data.csv  \n",
            "  inflating: train/subj9_series1_events.csv  \n",
            "  inflating: train/subj9_series2_data.csv  \n",
            "  inflating: train/subj9_series2_events.csv  \n",
            "  inflating: train/subj9_series3_data.csv  \n",
            "  inflating: train/subj9_series3_events.csv  \n",
            "  inflating: train/subj9_series4_data.csv  \n",
            "  inflating: train/subj9_series4_events.csv  \n",
            "  inflating: train/subj9_series5_data.csv  \n",
            "  inflating: train/subj9_series5_events.csv  \n",
            "  inflating: train/subj9_series6_data.csv  \n",
            "  inflating: train/subj9_series6_events.csv  \n",
            "  inflating: train/subj9_series7_data.csv  \n",
            "  inflating: train/subj9_series7_events.csv  \n",
            "  inflating: train/subj9_series8_data.csv  \n",
            "  inflating: train/subj9_series8_events.csv  \n"
          ],
          "name": "stdout"
        }
      ]
    },
    {
      "cell_type": "code",
      "metadata": {
        "id": "g91T8r4KVSfF",
        "colab_type": "code",
        "outputId": "e24b0e7a-0f16-4646-f1aa-9254b0fb94fa",
        "colab": {
          "base_uri": "https://localhost:8080/",
          "height": 218
        }
      },
      "source": [
        "!pip install scipy==1.2.1"
      ],
      "execution_count": 2,
      "outputs": [
        {
          "output_type": "stream",
          "text": [
            "Collecting scipy==1.2.1\n",
            "\u001b[?25l  Downloading https://files.pythonhosted.org/packages/7f/5f/c48860704092933bf1c4c1574a8de1ffd16bf4fde8bab190d747598844b2/scipy-1.2.1-cp36-cp36m-manylinux1_x86_64.whl (24.8MB)\n",
            "\u001b[K     |████████████████████████████████| 24.8MB 1.4MB/s \n",
            "\u001b[?25hRequirement already satisfied: numpy>=1.8.2 in /usr/local/lib/python3.6/dist-packages (from scipy==1.2.1) (1.18.4)\n",
            "\u001b[31mERROR: umap-learn 0.4.2 has requirement scipy>=1.3.1, but you'll have scipy 1.2.1 which is incompatible.\u001b[0m\n",
            "\u001b[31mERROR: tensorflow 2.2.0 has requirement scipy==1.4.1; python_version >= \"3\", but you'll have scipy 1.2.1 which is incompatible.\u001b[0m\n",
            "\u001b[31mERROR: albumentations 0.1.12 has requirement imgaug<0.2.7,>=0.2.5, but you'll have imgaug 0.2.9 which is incompatible.\u001b[0m\n",
            "Installing collected packages: scipy\n",
            "  Found existing installation: scipy 1.4.1\n",
            "    Uninstalling scipy-1.4.1:\n",
            "      Successfully uninstalled scipy-1.4.1\n",
            "Successfully installed scipy-1.2.1\n"
          ],
          "name": "stdout"
        }
      ]
    },
    {
      "cell_type": "code",
      "metadata": {
        "id": "ETYUTlnUTtc1",
        "colab_type": "code",
        "colab": {}
      },
      "source": [
        "import pandas as pd\n",
        "import numpy as np\n",
        "import torch\n",
        "from torch.utils.data import Dataset,DataLoader\n",
        "import torch.nn as nn\n",
        "from torch.autograd import Variable\n",
        "import torch.nn.functional as F\n",
        "from torch.nn.utils import weight_norm\n",
        "import random\n",
        "import matplotlib.pyplot as plt\n",
        "from sklearn.metrics import roc_auc_score as auc\n",
        "from scipy.interpolate import spline"
      ],
      "execution_count": 0,
      "outputs": []
    },
    {
      "cell_type": "code",
      "metadata": {
        "id": "dK-F5Fo0Vkt7",
        "colab_type": "code",
        "colab": {}
      },
      "source": [
        "data=pd.read_csv('/content/train/subj1_series1_data.csv')\n",
        "ev=pd.read_csv('/content/train/subj1_series1_events.csv')"
      ],
      "execution_count": 0,
      "outputs": []
    },
    {
      "cell_type": "code",
      "metadata": {
        "id": "MqIy60XBV9MR",
        "colab_type": "code",
        "outputId": "de12c1be-d788-4d61-89bf-8eb3100f5814",
        "colab": {
          "base_uri": "https://localhost:8080/",
          "height": 195
        }
      },
      "source": [
        "data.head()"
      ],
      "execution_count": 5,
      "outputs": [
        {
          "output_type": "execute_result",
          "data": {
            "text/html": [
              "<div>\n",
              "<style scoped>\n",
              "    .dataframe tbody tr th:only-of-type {\n",
              "        vertical-align: middle;\n",
              "    }\n",
              "\n",
              "    .dataframe tbody tr th {\n",
              "        vertical-align: top;\n",
              "    }\n",
              "\n",
              "    .dataframe thead th {\n",
              "        text-align: right;\n",
              "    }\n",
              "</style>\n",
              "<table border=\"1\" class=\"dataframe\">\n",
              "  <thead>\n",
              "    <tr style=\"text-align: right;\">\n",
              "      <th></th>\n",
              "      <th>id</th>\n",
              "      <th>Fp1</th>\n",
              "      <th>Fp2</th>\n",
              "      <th>F7</th>\n",
              "      <th>F3</th>\n",
              "      <th>Fz</th>\n",
              "      <th>F4</th>\n",
              "      <th>F8</th>\n",
              "      <th>FC5</th>\n",
              "      <th>FC1</th>\n",
              "      <th>FC2</th>\n",
              "      <th>FC6</th>\n",
              "      <th>T7</th>\n",
              "      <th>C3</th>\n",
              "      <th>Cz</th>\n",
              "      <th>C4</th>\n",
              "      <th>T8</th>\n",
              "      <th>TP9</th>\n",
              "      <th>CP5</th>\n",
              "      <th>CP1</th>\n",
              "      <th>CP2</th>\n",
              "      <th>CP6</th>\n",
              "      <th>TP10</th>\n",
              "      <th>P7</th>\n",
              "      <th>P3</th>\n",
              "      <th>Pz</th>\n",
              "      <th>P4</th>\n",
              "      <th>P8</th>\n",
              "      <th>PO9</th>\n",
              "      <th>O1</th>\n",
              "      <th>Oz</th>\n",
              "      <th>O2</th>\n",
              "      <th>PO10</th>\n",
              "    </tr>\n",
              "  </thead>\n",
              "  <tbody>\n",
              "    <tr>\n",
              "      <th>0</th>\n",
              "      <td>subj1_series1_0</td>\n",
              "      <td>-31</td>\n",
              "      <td>363</td>\n",
              "      <td>211</td>\n",
              "      <td>121</td>\n",
              "      <td>211</td>\n",
              "      <td>15</td>\n",
              "      <td>717</td>\n",
              "      <td>279</td>\n",
              "      <td>35</td>\n",
              "      <td>158</td>\n",
              "      <td>543</td>\n",
              "      <td>-166</td>\n",
              "      <td>192</td>\n",
              "      <td>230</td>\n",
              "      <td>573</td>\n",
              "      <td>860</td>\n",
              "      <td>128</td>\n",
              "      <td>59</td>\n",
              "      <td>272</td>\n",
              "      <td>473</td>\n",
              "      <td>325</td>\n",
              "      <td>379</td>\n",
              "      <td>536</td>\n",
              "      <td>348</td>\n",
              "      <td>383</td>\n",
              "      <td>105</td>\n",
              "      <td>607</td>\n",
              "      <td>289</td>\n",
              "      <td>459</td>\n",
              "      <td>173</td>\n",
              "      <td>120</td>\n",
              "      <td>704</td>\n",
              "    </tr>\n",
              "    <tr>\n",
              "      <th>1</th>\n",
              "      <td>subj1_series1_1</td>\n",
              "      <td>-29</td>\n",
              "      <td>342</td>\n",
              "      <td>216</td>\n",
              "      <td>123</td>\n",
              "      <td>222</td>\n",
              "      <td>200</td>\n",
              "      <td>595</td>\n",
              "      <td>329</td>\n",
              "      <td>43</td>\n",
              "      <td>166</td>\n",
              "      <td>495</td>\n",
              "      <td>-138</td>\n",
              "      <td>201</td>\n",
              "      <td>233</td>\n",
              "      <td>554</td>\n",
              "      <td>846</td>\n",
              "      <td>185</td>\n",
              "      <td>47</td>\n",
              "      <td>269</td>\n",
              "      <td>455</td>\n",
              "      <td>307</td>\n",
              "      <td>368</td>\n",
              "      <td>529</td>\n",
              "      <td>327</td>\n",
              "      <td>369</td>\n",
              "      <td>78</td>\n",
              "      <td>613</td>\n",
              "      <td>248</td>\n",
              "      <td>409</td>\n",
              "      <td>141</td>\n",
              "      <td>83</td>\n",
              "      <td>737</td>\n",
              "    </tr>\n",
              "    <tr>\n",
              "      <th>2</th>\n",
              "      <td>subj1_series1_2</td>\n",
              "      <td>-172</td>\n",
              "      <td>278</td>\n",
              "      <td>105</td>\n",
              "      <td>93</td>\n",
              "      <td>222</td>\n",
              "      <td>511</td>\n",
              "      <td>471</td>\n",
              "      <td>280</td>\n",
              "      <td>12</td>\n",
              "      <td>177</td>\n",
              "      <td>534</td>\n",
              "      <td>-163</td>\n",
              "      <td>198</td>\n",
              "      <td>207</td>\n",
              "      <td>542</td>\n",
              "      <td>768</td>\n",
              "      <td>145</td>\n",
              "      <td>52</td>\n",
              "      <td>250</td>\n",
              "      <td>452</td>\n",
              "      <td>273</td>\n",
              "      <td>273</td>\n",
              "      <td>511</td>\n",
              "      <td>319</td>\n",
              "      <td>355</td>\n",
              "      <td>66</td>\n",
              "      <td>606</td>\n",
              "      <td>320</td>\n",
              "      <td>440</td>\n",
              "      <td>141</td>\n",
              "      <td>62</td>\n",
              "      <td>677</td>\n",
              "    </tr>\n",
              "    <tr>\n",
              "      <th>3</th>\n",
              "      <td>subj1_series1_3</td>\n",
              "      <td>-272</td>\n",
              "      <td>263</td>\n",
              "      <td>-52</td>\n",
              "      <td>99</td>\n",
              "      <td>208</td>\n",
              "      <td>511</td>\n",
              "      <td>428</td>\n",
              "      <td>261</td>\n",
              "      <td>27</td>\n",
              "      <td>180</td>\n",
              "      <td>525</td>\n",
              "      <td>-310</td>\n",
              "      <td>212</td>\n",
              "      <td>221</td>\n",
              "      <td>542</td>\n",
              "      <td>808</td>\n",
              "      <td>115</td>\n",
              "      <td>41</td>\n",
              "      <td>276</td>\n",
              "      <td>432</td>\n",
              "      <td>258</td>\n",
              "      <td>241</td>\n",
              "      <td>521</td>\n",
              "      <td>336</td>\n",
              "      <td>356</td>\n",
              "      <td>71</td>\n",
              "      <td>568</td>\n",
              "      <td>339</td>\n",
              "      <td>437</td>\n",
              "      <td>139</td>\n",
              "      <td>58</td>\n",
              "      <td>592</td>\n",
              "    </tr>\n",
              "    <tr>\n",
              "      <th>4</th>\n",
              "      <td>subj1_series1_4</td>\n",
              "      <td>-265</td>\n",
              "      <td>213</td>\n",
              "      <td>-67</td>\n",
              "      <td>99</td>\n",
              "      <td>155</td>\n",
              "      <td>380</td>\n",
              "      <td>476</td>\n",
              "      <td>353</td>\n",
              "      <td>32</td>\n",
              "      <td>165</td>\n",
              "      <td>507</td>\n",
              "      <td>-320</td>\n",
              "      <td>242</td>\n",
              "      <td>230</td>\n",
              "      <td>545</td>\n",
              "      <td>865</td>\n",
              "      <td>180</td>\n",
              "      <td>89</td>\n",
              "      <td>288</td>\n",
              "      <td>444</td>\n",
              "      <td>275</td>\n",
              "      <td>275</td>\n",
              "      <td>550</td>\n",
              "      <td>324</td>\n",
              "      <td>346</td>\n",
              "      <td>76</td>\n",
              "      <td>547</td>\n",
              "      <td>343</td>\n",
              "      <td>446</td>\n",
              "      <td>171</td>\n",
              "      <td>67</td>\n",
              "      <td>581</td>\n",
              "    </tr>\n",
              "  </tbody>\n",
              "</table>\n",
              "</div>"
            ],
            "text/plain": [
              "                id  Fp1  Fp2   F7   F3   Fz  ...   P8  PO9   O1   Oz   O2  PO10\n",
              "0  subj1_series1_0  -31  363  211  121  211  ...  607  289  459  173  120   704\n",
              "1  subj1_series1_1  -29  342  216  123  222  ...  613  248  409  141   83   737\n",
              "2  subj1_series1_2 -172  278  105   93  222  ...  606  320  440  141   62   677\n",
              "3  subj1_series1_3 -272  263  -52   99  208  ...  568  339  437  139   58   592\n",
              "4  subj1_series1_4 -265  213  -67   99  155  ...  547  343  446  171   67   581\n",
              "\n",
              "[5 rows x 33 columns]"
            ]
          },
          "metadata": {
            "tags": []
          },
          "execution_count": 5
        }
      ]
    },
    {
      "cell_type": "code",
      "metadata": {
        "id": "0hZZr0GuV-0D",
        "colab_type": "code",
        "outputId": "77d0a279-b5aa-4d7d-e0c8-b613ef1b0a7e",
        "colab": {
          "base_uri": "https://localhost:8080/",
          "height": 195
        }
      },
      "source": [
        "ev.head()"
      ],
      "execution_count": 6,
      "outputs": [
        {
          "output_type": "execute_result",
          "data": {
            "text/html": [
              "<div>\n",
              "<style scoped>\n",
              "    .dataframe tbody tr th:only-of-type {\n",
              "        vertical-align: middle;\n",
              "    }\n",
              "\n",
              "    .dataframe tbody tr th {\n",
              "        vertical-align: top;\n",
              "    }\n",
              "\n",
              "    .dataframe thead th {\n",
              "        text-align: right;\n",
              "    }\n",
              "</style>\n",
              "<table border=\"1\" class=\"dataframe\">\n",
              "  <thead>\n",
              "    <tr style=\"text-align: right;\">\n",
              "      <th></th>\n",
              "      <th>id</th>\n",
              "      <th>HandStart</th>\n",
              "      <th>FirstDigitTouch</th>\n",
              "      <th>BothStartLoadPhase</th>\n",
              "      <th>LiftOff</th>\n",
              "      <th>Replace</th>\n",
              "      <th>BothReleased</th>\n",
              "    </tr>\n",
              "  </thead>\n",
              "  <tbody>\n",
              "    <tr>\n",
              "      <th>0</th>\n",
              "      <td>subj1_series1_0</td>\n",
              "      <td>0</td>\n",
              "      <td>0</td>\n",
              "      <td>0</td>\n",
              "      <td>0</td>\n",
              "      <td>0</td>\n",
              "      <td>0</td>\n",
              "    </tr>\n",
              "    <tr>\n",
              "      <th>1</th>\n",
              "      <td>subj1_series1_1</td>\n",
              "      <td>0</td>\n",
              "      <td>0</td>\n",
              "      <td>0</td>\n",
              "      <td>0</td>\n",
              "      <td>0</td>\n",
              "      <td>0</td>\n",
              "    </tr>\n",
              "    <tr>\n",
              "      <th>2</th>\n",
              "      <td>subj1_series1_2</td>\n",
              "      <td>0</td>\n",
              "      <td>0</td>\n",
              "      <td>0</td>\n",
              "      <td>0</td>\n",
              "      <td>0</td>\n",
              "      <td>0</td>\n",
              "    </tr>\n",
              "    <tr>\n",
              "      <th>3</th>\n",
              "      <td>subj1_series1_3</td>\n",
              "      <td>0</td>\n",
              "      <td>0</td>\n",
              "      <td>0</td>\n",
              "      <td>0</td>\n",
              "      <td>0</td>\n",
              "      <td>0</td>\n",
              "    </tr>\n",
              "    <tr>\n",
              "      <th>4</th>\n",
              "      <td>subj1_series1_4</td>\n",
              "      <td>0</td>\n",
              "      <td>0</td>\n",
              "      <td>0</td>\n",
              "      <td>0</td>\n",
              "      <td>0</td>\n",
              "      <td>0</td>\n",
              "    </tr>\n",
              "  </tbody>\n",
              "</table>\n",
              "</div>"
            ],
            "text/plain": [
              "                id  HandStart  FirstDigitTouch  ...  LiftOff  Replace  BothReleased\n",
              "0  subj1_series1_0          0                0  ...        0        0             0\n",
              "1  subj1_series1_1          0                0  ...        0        0             0\n",
              "2  subj1_series1_2          0                0  ...        0        0             0\n",
              "3  subj1_series1_3          0                0  ...        0        0             0\n",
              "4  subj1_series1_4          0                0  ...        0        0             0\n",
              "\n",
              "[5 rows x 7 columns]"
            ]
          },
          "metadata": {
            "tags": []
          },
          "execution_count": 6
        }
      ]
    },
    {
      "cell_type": "code",
      "metadata": {
        "id": "WpsWLzZHWBPL",
        "colab_type": "code",
        "colab": {}
      },
      "source": [
        "class eegdata(Dataset):\n",
        "  def __init__(self,path,validation=False,subjects=range(1,13)):\n",
        "    super().__init__()\n",
        "    data,self.target=self.readfiles(path,validation,subjects)\n",
        "    self.mean=data.mean(axis=0)\n",
        "    self.std=data.std(axis=0)\n",
        "    self.data=self.norm(data)\n",
        "\n",
        "  def norm(self,x):\n",
        "    return ((x-self.mean)/self.std)\n",
        "\n",
        "  def to_np(self,values):\n",
        "    count=0\n",
        "    for i in range(len(values)):\n",
        "      count+=len(values[i])\n",
        "\n",
        "    #create np array size all data\n",
        "    ret=np.zeros((count,len(values[0][0])))\n",
        "\n",
        "    #copy data to array\n",
        "    ix=0\n",
        "    for i in range(len(values)):\n",
        "      ret[ix:ix+len(values[i]), :] = values[i]\n",
        "      ix+=len(values[i])\n",
        "    return ret\n",
        "\n",
        "  def readfiles(self,path,validation,subjects):\n",
        "    allx=[]\n",
        "    ally=[]\n",
        "    series=[1,2,3,4,5,6,7,8] if validation==False else [3]\n",
        "\n",
        "    for i in subjects:\n",
        "      print('log: reading subject {}'.format(i))\n",
        "      xs=None\n",
        "      ys=None\n",
        "\n",
        "      for j in series:\n",
        "        data='subj{}_series{}_data.csv'.format(i,j)\n",
        "        events='subj{}_series{}_events.csv'.format(i,j)\n",
        "\n",
        "        x=pd.read_csv(path+data).values[:,1:]\n",
        "        xs=x if xs is None else np.vstack((xs,x))\n",
        "\n",
        "        y=pd.read_csv(path+events).values[:,1:]\n",
        "        ys = y if ys is None else np.vstack((ys, y))\n",
        "\n",
        "      allx.append(xs)\n",
        "      ally.append(ys)\n",
        "\n",
        "    xs=self.to_np(allx)\n",
        "    ys=self.to_np(ally)\n",
        "\n",
        "    return xs,ys\n",
        "\n",
        "  def __getitem__(self,index):\n",
        "    return self.data[index],self.target[index]\n",
        "\n",
        "  def __len__(self):\n",
        "    return len(self.data)"
      ],
      "execution_count": 0,
      "outputs": []
    },
    {
      "cell_type": "code",
      "metadata": {
        "id": "BEcyzEo_ZfwE",
        "colab_type": "code",
        "outputId": "518755d3-831c-4e53-a22b-0b2e8ae2635e",
        "colab": {
          "base_uri": "https://localhost:8080/",
          "height": 118
        }
      },
      "source": [
        "# load subjects data into one big array using object created above\n",
        "# if not enough RAM is available, only load some subjects at a time, and train on these subjects seperately\n",
        "# i.e. train on subjects 1-5, then 5-9, then 9-12. Here the code starts off by loading up subjects 1-4 only.\n",
        "\n",
        "subjects=range(9,12)\n",
        "traindata=eegdata('/content/train/',subjects=subjects)\n",
        "valdata=eegdata('/content/train/',subjects=subjects,validation=True)"
      ],
      "execution_count": 10,
      "outputs": [
        {
          "output_type": "stream",
          "text": [
            "log: reading subject 9\n",
            "log: reading subject 10\n",
            "log: reading subject 11\n",
            "log: reading subject 9\n",
            "log: reading subject 10\n",
            "log: reading subject 11\n"
          ],
          "name": "stdout"
        }
      ]
    },
    {
      "cell_type": "code",
      "metadata": {
        "id": "g8JqFug0bM1P",
        "colab_type": "code",
        "outputId": "aac2f222-f141-460c-9dc3-efd37ede4f89",
        "colab": {
          "base_uri": "https://localhost:8080/",
          "height": 118
        }
      },
      "source": [
        "def get_individuals(individuals=range(9,12)):\n",
        "  #subjects=[]\n",
        "  #vals=[]\n",
        "  for i in individuals:\n",
        "    s=[i]\n",
        "    subject=eegdata('/content/train/',subjects=s)\n",
        "    v=eegdata('/content/train/',validation=True,subjects=s)\n",
        "    subjects.append(subject)\n",
        "    vals.append(v)\n",
        "\n",
        "  return subjects,vals\n",
        "subjects,vals=get_individuals()"
      ],
      "execution_count": 14,
      "outputs": [
        {
          "output_type": "stream",
          "text": [
            "log: reading subject 9\n",
            "log: reading subject 9\n",
            "log: reading subject 10\n",
            "log: reading subject 10\n",
            "log: reading subject 11\n",
            "log: reading subject 11\n"
          ],
          "name": "stdout"
        }
      ]
    },
    {
      "cell_type": "code",
      "metadata": {
        "id": "k-n4F5WkdAAk",
        "colab_type": "code",
        "colab": {}
      },
      "source": [
        "#see how eeg readings change over time\n",
        "def get_spike(subject, event, average=True):\n",
        "    spike=np.zeros([19,32])\n",
        "    s=subject\n",
        "    indexes=np.where(subjects[s].target[:,event] == 1)[0]\n",
        "    i=0\n",
        "    div=0\n",
        "    while i < len(indexes):\n",
        "        ix = subjects[s].data[indexes[i]-100:indexes[i+149]+50]\n",
        "        spike+=ix[::16]\n",
        "        div+=1\n",
        "        i+=150\n",
        "    spike/=div\n",
        "    if average==True:\n",
        "        spike = spike.mean(axis=1)\n",
        "    return spike"
      ],
      "execution_count": 0,
      "outputs": []
    },
    {
      "cell_type": "code",
      "metadata": {
        "id": "caipsnllePXa",
        "colab_type": "code",
        "outputId": "62a3b4e6-af03-4b5f-da28-c921dfa48489",
        "colab": {
          "base_uri": "https://localhost:8080/",
          "height": 1000
        }
      },
      "source": [
        "fig=plt.figure(12,figsize=[10,10])\n",
        "for s in range(11):\n",
        "  ax=fig.add_subplot(3,4,s+1)\n",
        "  spike=get_spike(s,0)\n",
        "  xnew=np.linspace(0,len(spike),19)\n",
        "\n",
        "  smooth=spline(xnew,spike,xnew)\n",
        "  ax.plot(range(len(spike)),spike)\n",
        "  ax.set_xticklabels([])\n",
        "  ax.set_yticklabels([])"
      ],
      "execution_count": 18,
      "outputs": [
        {
          "output_type": "stream",
          "text": [
            "/usr/local/lib/python3.6/dist-packages/ipykernel_launcher.py:7: DeprecationWarning: `spline` is deprecated!\n",
            "spline is deprecated in scipy 0.19.0, use Bspline class instead.\n",
            "  import sys\n",
            "/usr/local/lib/python3.6/dist-packages/ipykernel_launcher.py:7: DeprecationWarning: `spline` is deprecated!\n",
            "spline is deprecated in scipy 0.19.0, use Bspline class instead.\n",
            "  import sys\n",
            "/usr/local/lib/python3.6/dist-packages/ipykernel_launcher.py:7: DeprecationWarning: `spline` is deprecated!\n",
            "spline is deprecated in scipy 0.19.0, use Bspline class instead.\n",
            "  import sys\n",
            "/usr/local/lib/python3.6/dist-packages/ipykernel_launcher.py:7: DeprecationWarning: `spline` is deprecated!\n",
            "spline is deprecated in scipy 0.19.0, use Bspline class instead.\n",
            "  import sys\n",
            "/usr/local/lib/python3.6/dist-packages/ipykernel_launcher.py:7: DeprecationWarning: `spline` is deprecated!\n",
            "spline is deprecated in scipy 0.19.0, use Bspline class instead.\n",
            "  import sys\n",
            "/usr/local/lib/python3.6/dist-packages/ipykernel_launcher.py:7: DeprecationWarning: `spline` is deprecated!\n",
            "spline is deprecated in scipy 0.19.0, use Bspline class instead.\n",
            "  import sys\n",
            "/usr/local/lib/python3.6/dist-packages/ipykernel_launcher.py:7: DeprecationWarning: `spline` is deprecated!\n",
            "spline is deprecated in scipy 0.19.0, use Bspline class instead.\n",
            "  import sys\n",
            "/usr/local/lib/python3.6/dist-packages/ipykernel_launcher.py:7: DeprecationWarning: `spline` is deprecated!\n",
            "spline is deprecated in scipy 0.19.0, use Bspline class instead.\n",
            "  import sys\n",
            "/usr/local/lib/python3.6/dist-packages/ipykernel_launcher.py:7: DeprecationWarning: `spline` is deprecated!\n",
            "spline is deprecated in scipy 0.19.0, use Bspline class instead.\n",
            "  import sys\n",
            "/usr/local/lib/python3.6/dist-packages/ipykernel_launcher.py:7: DeprecationWarning: `spline` is deprecated!\n",
            "spline is deprecated in scipy 0.19.0, use Bspline class instead.\n",
            "  import sys\n",
            "/usr/local/lib/python3.6/dist-packages/ipykernel_launcher.py:7: DeprecationWarning: `spline` is deprecated!\n",
            "spline is deprecated in scipy 0.19.0, use Bspline class instead.\n",
            "  import sys\n"
          ],
          "name": "stderr"
        },
        {
          "output_type": "display_data",
          "data": {
            "image/png": "[encoded data removed]",
            "text/plain": [
              "<Figure size 720x720 with 11 Axes>"
            ]
          },
          "metadata": {
            "tags": [],
            "needs_background": "light"
          }
        }
      ]
    },
    {
      "cell_type": "code",
      "metadata": {
        "id": "6r1ldKRzrIb1",
        "colab_type": "code",
        "outputId": "dc2b778c-536f-4b6b-ef0e-91792aa2907c",
        "colab": {
          "base_uri": "https://localhost:8080/",
          "height": 34
        }
      },
      "source": [
        "print(len(subjects))"
      ],
      "execution_count": 17,
      "outputs": [
        {
          "output_type": "stream",
          "text": [
            "11\n"
          ],
          "name": "stdout"
        }
      ]
    },
    {
      "cell_type": "code",
      "metadata": {
        "id": "a45xbeNirqqg",
        "colab_type": "code",
        "colab": {}
      },
      "source": [
        "#params for the model\n",
        "num_features=32\n",
        "window_size=1024\n",
        "batch_size=2000  "
      ],
      "execution_count": 0,
      "outputs": []
    },
    {
      "cell_type": "code",
      "metadata": {
        "id": "spShh8QgvWCR",
        "colab_type": "code",
        "colab": {}
      },
      "source": [
        "#Batch creator. When training it will return random locations in the dataset. The data is a time series \n",
        "#and so we feed previous readings (going back window_size) in with each index. Rather than feed in all window_size \n",
        "#previous readings, we subsample and take every 4th set of readings.\n",
        "\n",
        "def get_batch(dataset,batch_size=2000,val=False,index=None):\n",
        "  if val==False:\n",
        "    index=random.randint(window_size,len(dataset)-16*batch_size)\n",
        "    indexes=np.arange(index,index+16*batch_size,16)\n",
        "  else:\n",
        "    indexes=np.arange(index,index+batch_size)\n",
        "  \n",
        "  batch=np.zeros((batch_size,num_features,window_size//4))\n",
        "  b=0\n",
        "  for i in indexes:\n",
        "    start=i-window_size if i-window_size>0 else 0\n",
        "    tmp=dataset.data[start:i]\n",
        "    batch[b,:,:]=tmp[::4].transpose()\n",
        "    b+=1\n",
        "  \n",
        "  targets=dataset.target[indexes]\n",
        "  return torch.DoubleTensor(batch),torch.DoubleTensor(targets)"
      ],
      "execution_count": 0,
      "outputs": []
    },
    {
      "cell_type": "code",
      "metadata": {
        "id": "nQsEpZAnvslm",
        "colab_type": "code",
        "colab": {}
      },
      "source": [
        "class convmodel(nn.Module):\n",
        "  def __init__(self,out_classes,drop=0.5,d_linear=124):\n",
        "    super().__init__()\n",
        "\n",
        "    self.conv2=nn.Conv1d(32,64,kernel_size=3,padding=0,stride=1)\n",
        "    self.bn=nn.BatchNorm1d(64)\n",
        "    self.pool=nn.MaxPool1d(2,stride=2)\n",
        "    self.linear1=nn.Linear(8128,d_linear)\n",
        "\n",
        "    self.linear3=nn.Linear(d_linear,out_classes)\n",
        "    self.dropout1=nn.Dropout(drop)\n",
        "    self.dropout2=nn.Dropout(drop)\n",
        "    self.dropout3=nn.Dropout(drop)\n",
        "\n",
        "    self.conv=nn.Sequential(self.conv2,nn.ReLU(inplace=True),self.bn,self.pool,self.dropout1)\n",
        "    self.dense=nn.Sequential(self.linear1,nn.ReLU(inplace=True),self.dropout2,self.dropout3,self.linear3)\n",
        "\n",
        "  def forward(self,x):\n",
        "    bs=x.size(0)\n",
        "    x=self.conv(x)\n",
        "    x=x.view(bs,-1)\n",
        "    output=self.dense(x)\n",
        "\n",
        "    return torch.sigmoid(output)"
      ],
      "execution_count": 0,
      "outputs": []
    },
    {
      "cell_type": "code",
      "metadata": {
        "id": "I7uXFWNRx4p5",
        "colab_type": "code",
        "colab": {}
      },
      "source": [
        "model=convmodel(6).double()\n",
        "optim=torch.optim.Adadelta(model.parameters(),lr=1,eps=1e-10)"
      ],
      "execution_count": 0,
      "outputs": []
    },
    {
      "cell_type": "code",
      "metadata": {
        "id": "_uimeSLryGXK",
        "colab_type": "code",
        "outputId": "cab581e0-0cd8-4789-f268-522a71c9c4d0",
        "colab": {
          "base_uri": "https://localhost:8080/",
          "height": 386
        }
      },
      "source": [
        "#train the model\n",
        "bs=batch_size\n",
        "\n",
        "def train(traindata,epochs,printevery=100,shuffle=True):\n",
        "  model.train()\n",
        "  for epoch in range(epochs):\n",
        "    total_loss=0\n",
        "    for i in range(len(traindata)//bs):\n",
        "      optim.zero_grad()\n",
        "      x,y=get_batch(traindata)\n",
        "      preds=model(x)\n",
        "      loss=F.binary_cross_entropy(preds.view(-1),y.view(-1))\n",
        "      loss.backward()\n",
        "      total_loss+=loss.item()\n",
        "      optim.step()\n",
        "      if (i+1)%printevery==0:\n",
        "        print(\"epoch: %d, iter %d/%d, loss %.4f\"%(epoch + 1, i + 1, len(traindata)//2000, total_loss/printevery))\n",
        "        total_loss=0\n",
        "\n",
        "#train for 1 epoch\n",
        "train(traindata,1)"
      ],
      "execution_count": 23,
      "outputs": [
        {
          "output_type": "stream",
          "text": [
            "epoch: 1, iter 100/2227, loss 0.4960\n",
            "epoch: 1, iter 200/2227, loss 0.2773\n",
            "epoch: 1, iter 300/2227, loss 0.2077\n",
            "epoch: 1, iter 400/2227, loss 0.1787\n",
            "epoch: 1, iter 500/2227, loss 0.1708\n",
            "epoch: 1, iter 600/2227, loss 0.1549\n",
            "epoch: 1, iter 700/2227, loss 0.1441\n",
            "epoch: 1, iter 800/2227, loss 0.1412\n",
            "epoch: 1, iter 900/2227, loss 0.1361\n",
            "epoch: 1, iter 1000/2227, loss 0.1379\n",
            "epoch: 1, iter 1100/2227, loss 0.1288\n",
            "epoch: 1, iter 1200/2227, loss 0.1160\n",
            "epoch: 1, iter 1300/2227, loss 0.1160\n",
            "epoch: 1, iter 1400/2227, loss 0.1159\n",
            "epoch: 1, iter 1500/2227, loss 0.1134\n",
            "epoch: 1, iter 1600/2227, loss 0.1164\n",
            "epoch: 1, iter 1700/2227, loss 0.1119\n",
            "epoch: 1, iter 1800/2227, loss 0.1148\n",
            "epoch: 1, iter 1900/2227, loss 0.1026\n",
            "epoch: 1, iter 2000/2227, loss 0.1084\n",
            "epoch: 1, iter 2100/2227, loss 0.1067\n",
            "epoch: 1, iter 2200/2227, loss 0.1068\n"
          ],
          "name": "stdout"
        }
      ]
    },
    {
      "cell_type": "code",
      "metadata": {
        "id": "9IEXD9vKy5Ea",
        "colab_type": "code",
        "colab": {}
      },
      "source": [
        "!mkdir models"
      ],
      "execution_count": 0,
      "outputs": []
    },
    {
      "cell_type": "code",
      "metadata": {
        "id": "DMo44167B5bv",
        "colab_type": "code",
        "colab": {}
      },
      "source": [
        "torch.save(model.state_dict(), \"/content/models/Convnet_epoch1\")"
      ],
      "execution_count": 0,
      "outputs": []
    },
    {
      "cell_type": "code",
      "metadata": {
        "id": "POnO75SvB_wd",
        "colab_type": "code",
        "colab": {}
      },
      "source": [
        "a=model.load_state_dict(torch.load(\"/content/models/Convnet_epoch1\"))"
      ],
      "execution_count": 0,
      "outputs": []
    },
    {
      "cell_type": "code",
      "metadata": {
        "id": "rabv3k9hCSoj",
        "colab_type": "code",
        "colab": {}
      },
      "source": [
        "def getPredictions(data):\n",
        "    \n",
        "    model.eval()\n",
        "    p=[]\n",
        "    res=[]\n",
        "    i=window_size\n",
        "    bs=2000\n",
        "    while i<len(data):\n",
        "        if i+bs > len(data):\n",
        "            bs=len(data) - i\n",
        "             \n",
        "        x,y=get_batch(data,bs,index=i,val=True)\n",
        "        preds=model(x)\n",
        "        preds=preds.squeeze(1)\n",
        "        p.append(np.array(preds.cpu().data))\n",
        "        res.append(np.array(y.data))\n",
        "\n",
        "        i+=bs\n",
        "    \n",
        "    preds=p[0]\n",
        "    for i in p[1:]:\n",
        "        preds=np.vstack((preds,i))\n",
        "    \n",
        "    targs=res[0]\n",
        "    for i in res[1:]:\n",
        "        targs=np.vstack((targs, i))\n",
        "    return preds, targs\n",
        "\n",
        "def valscore(preds, targs):\n",
        "    aucs=[auc(targs[:, j],preds[:, j]) for j in range(6)]\n",
        "    total_loss=np.mean(aucs)\n",
        "    print(total_loss)"
      ],
      "execution_count": 0,
      "outputs": []
    },
    {
      "cell_type": "code",
      "metadata": {
        "id": "q_Yu5ajICWy0",
        "colab_type": "code",
        "outputId": "cce6d4ad-9dc3-4bc3-95d9-e7b4fed0089c",
        "colab": {
          "base_uri": "https://localhost:8080/",
          "height": 34
        }
      },
      "source": [
        "preds, targs = getPredictions(valdata)\n",
        "valscore(preds, targs)"
      ],
      "execution_count": 28,
      "outputs": [
        {
          "output_type": "stream",
          "text": [
            "0.8357429244716003\n"
          ],
          "name": "stdout"
        }
      ]
    },
    {
      "cell_type": "code",
      "metadata": {
        "id": "wzkLeYLfFi2g",
        "colab_type": "code",
        "outputId": "bf5c28e2-eea8-400c-ce90-3df24b68e48c",
        "colab": {
          "base_uri": "https://localhost:8080/",
          "height": 104
        }
      },
      "source": [
        "#visualizing the prediction\n",
        "def show_whole_series(f=1, th=0.3):\n",
        "\n",
        "    ps = np.where(preds[:,f] > th)\n",
        "    true = np.where(targs[:,f] == 1)\n",
        "    fig = plt.figure(figsize=[15,1])\n",
        "    ax1 = fig.add_subplot(1,1,1)\n",
        "    ax1.scatter(ps[0]/500, ['Prediction']*len(ps[0]))\n",
        "    ax1.scatter(true[0]/500, ['True']*len(true[0]))\n",
        "\n",
        "show_whole_series()"
      ],
      "execution_count": 29,
      "outputs": [
        {
          "output_type": "display_data",
          "data": {
            "image/png": "[encoded data removed]",
            "text/plain": [
              "<Figure size 1080x72 with 1 Axes>"
            ]
          },
          "metadata": {
            "tags": [],
            "needs_background": "light"
          }
        }
      ]
    },
    {
      "cell_type": "code",
      "metadata": {
        "id": "BcsbnxsUFwQ7",
        "colab_type": "code",
        "colab": {}
      },
      "source": [
        "#training on specific individuals\n",
        "def train_individuals(subjects, vals):\n",
        "    for i in range(12):\n",
        "        model.load_state_dict(torch.load(\"/content/models/Convnet_epoch1\"))\n",
        "        train(subjects[i], 1)\n",
        "        print('')\n",
        "        valscore(vals[i])\n",
        "        torch.save(model.state_dict(), \"/content/models/subj_{}_epoch2\".format(i + 1))\n",
        "\n",
        "train_individuals(subjects,vals)\n",
        "#too much consumption of RAM"
      ],
      "execution_count": 0,
      "outputs": []
    },
    {
      "cell_type": "code",
      "metadata": {
        "id": "R2wdv9NELq1E",
        "colab_type": "code",
        "colab": {}
      },
      "source": [
        ""
      ],
      "execution_count": 0,
      "outputs": []
    }
  ]
}